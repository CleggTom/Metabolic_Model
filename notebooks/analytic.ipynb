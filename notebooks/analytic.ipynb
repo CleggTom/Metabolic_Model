{
 "cells": [
  {
   "cell_type": "code",
   "execution_count": 1,
   "id": "7c03b102-58ab-417a-a851-c81db2f05c50",
   "metadata": {},
   "outputs": [],
   "source": [
    "using Pkg\n",
    "\n",
    "Pkg.activate(\"..\")\n",
    "\n",
    "using SymPy"
   ]
  },
  {
   "cell_type": "code",
   "execution_count": 2,
   "id": "ffce1efd-e6d8-46b9-9e9b-5474852eae7f",
   "metadata": {},
   "outputs": [
    {
     "data": {
      "text/latex": [
       "$\\begin{equation*}\\left\\{\\left( \\frac{R_{1}}{u_{11}}, \\  \\frac{ρ1}{R_{1}}\\right)\\right\\}\\end{equation*}$\n"
      ],
      "text/plain": [
       "⎧⎛ R₁  ρ1⎞⎫\n",
       "⎨⎜───, ──⎟⎬\n",
       "⎩⎝u₁₁  R₁⎠⎭"
      ]
     },
     "execution_count": 2,
     "metadata": {},
     "output_type": "execute_result"
    }
   ],
   "source": [
    "#define params 2 consumers 1 resource\n",
    "@syms x1,x2,y1\n",
    "@syms u11,u21,R1,R2\n",
    "@syms ρ1\n",
    "\n",
    "dx1 = x1 * (y1 * u11 - R1)\n",
    "dx2 = x2 * (y1 * u21 - R2)\n",
    "dy1 = ρ1 - x1*u11*y1 - x2*u21*y1\n",
    "\n",
    "nonlinsolve([dx1, subs(dy1,(x2,0))],y1,x1)"
   ]
  },
  {
   "cell_type": "code",
   "execution_count": 3,
   "id": "6e363442-e564-4cf0-92c6-e317928610ee",
   "metadata": {},
   "outputs": [
    {
     "data": {
      "text/latex": [
       "$\\begin{equation*}a_{1} \\left(- R_{1} + u_{11} y_{1}\\right) + a_{2} \\left(- R_{2} + u_{21} y_{1}\\right)\\end{equation*}$\n"
      ],
      "text/plain": [
       "a₁⋅(-R₁ + u₁₁⋅y₁) + a₂⋅(-R₂ + u₂₁⋅y₁)"
      ]
     },
     "execution_count": 3,
     "metadata": {},
     "output_type": "execute_result"
    }
   ],
   "source": [
    "#lyaponov\n",
    "@syms a1,a2\n",
    "V = a1*log(x1) + a2*log(x2)\n",
    "dV = diff(V,x1) * dx1 + diff(V,x2) * dx2"
   ]
  },
  {
   "cell_type": "code",
   "execution_count": 4,
   "id": "fd833c6f-177e-4210-863e-37deaccf86d5",
   "metadata": {},
   "outputs": [
    {
     "data": {
      "text/latex": [
       "$\\begin{equation*}- \\frac{R_{1}}{u_{11}} + \\frac{R_{2}}{u_{21}} < 0\\end{equation*}$\n"
      ],
      "text/plain": [
       "   R₁    R₂    \n",
       "- ─── + ─── < 0\n",
       "  u₁₁   u₂₁    "
      ]
     },
     "execution_count": 4,
     "metadata": {},
     "output_type": "execute_result"
    }
   ],
   "source": [
    "#define constants\n",
    "a1_ = 1/u11\n",
    "a2_ = -1/u21\n",
    "\n",
    "V_final = expand(subs(dV, (a1,a1_), (a2,a2_)))\n",
    "\n",
    "Lt(V_final,0)"
   ]
  },
  {
   "cell_type": "code",
   "execution_count": 5,
   "id": "882e6db7-7dd0-42e4-b567-342adda27e33",
   "metadata": {},
   "outputs": [
    {
     "data": {
      "text/latex": [
       "$\\begin{equation*}\\left\\{\\left( \\frac{R_{1}}{2 u_{11}}, \\  \\frac{R_{1}}{2 u_{12}}, \\  \\frac{2}{R_{1}}\\right)\\right\\}\\end{equation*}$\n"
      ],
      "text/plain": [
       "⎧⎛  R₁     R₁   2 ⎞⎫\n",
       "⎨⎜─────, ─────, ──⎟⎬\n",
       "⎩⎝2⋅u₁₁  2⋅u₁₂  R₁⎠⎭"
      ]
     },
     "execution_count": 5,
     "metadata": {},
     "output_type": "execute_result"
    }
   ],
   "source": [
    "#2 consumers 2 resource\n",
    "@syms y2, ρ2\n",
    "@syms u12,u22\n",
    "\n",
    "dx1 = x1 * (y1 * u11 + y2 * u12 - R1)\n",
    "dx2 = x2 * (y1 * u21 + y2 * u22 - R2)\n",
    "dy1 = 1 - x1*u11*y1 - x2*u21*y1\n",
    "dy2 = 1 - x1*u12*y2 - x2*u22*y2\n",
    "\n",
    "nonlinsolve([dx1, subs(dy1,(x2,0)), subs(dy2,(x2,0))],y1,y2,x1)"
   ]
  },
  {
   "cell_type": "code",
   "execution_count": 6,
   "id": "7d292ee9-26c1-47f6-b69e-cc4699b16fcf",
   "metadata": {},
   "outputs": [
    {
     "data": {
      "text/latex": [
       "$\\begin{equation*}a_{1} \\left(- R_{1} + u_{11} y_{1} + u_{12} y_{2}\\right) + a_{2} \\left(- R_{2} + u_{21} y_{1} + u_{22} y_{2}\\right)\\end{equation*}$\n"
      ],
      "text/plain": [
       "a₁⋅(-R₁ + u₁₁⋅y₁ + u₁₂⋅y₂) + a₂⋅(-R₂ + u₂₁⋅y₁ + u₂₂⋅y₂)"
      ]
     },
     "execution_count": 6,
     "metadata": {},
     "output_type": "execute_result"
    }
   ],
   "source": [
    "V = a1*log(x1) + a2*log(x2)\n",
    "dV = diff(V,x1) * dx1 + diff(V,x2) * dx2"
   ]
  },
  {
   "cell_type": "code",
   "execution_count": 76,
   "id": "9aca5819-5111-4315-a86c-b098513c1e54",
   "metadata": {},
   "outputs": [
    {
     "data": {
      "text/latex": [
       "$\\begin{equation*}\\left\\{\\left( \\frac{R_{1} ρ1}{u_{11} \\left(ρ1 + ρ2 + ρ3\\right)}, \\  \\frac{R_{1} ρ2}{u_{12} \\left(ρ1 + ρ2 + ρ3\\right)}, \\  \\frac{R_{1} ρ3}{u_{13} \\left(ρ1 + ρ2 + ρ3\\right)}, \\  \\frac{ρ1 + ρ2 + ρ3}{R_{1}}\\right)\\right\\}\\end{equation*}$\n"
      ],
      "text/plain": [
       "⎧⎛      R₁⋅ρ1               R₁⋅ρ2               R₁⋅ρ3         ρ1 + ρ2 + ρ3⎞⎫\n",
       "⎨⎜──────────────────, ──────────────────, ──────────────────, ────────────⎟⎬\n",
       "⎩⎝u₁₁⋅(ρ1 + ρ2 + ρ3)  u₁₂⋅(ρ1 + ρ2 + ρ3)  u₁₃⋅(ρ1 + ρ2 + ρ3)       R₁     ⎠⎭"
      ]
     },
     "execution_count": 76,
     "metadata": {},
     "output_type": "execute_result"
    }
   ],
   "source": [
    "#2 consumers 3 resource\n",
    "@syms y3, ρ3\n",
    "@syms u13,u23\n",
    "\n",
    "dx1 = x1 * (y1 * u11 + y2 * u12 + y3 * u13 - R1)\n",
    "dx2 = x2 * (y1 * u21 + y2 * u22 + y3 * u23 - R2)\n",
    "dy1 = ρ1 - x1*u11*y1 - x2*u21*y1\n",
    "dy2 = ρ2 - x1*u12*y2 - x2*u22*y2\n",
    "dy3 = ρ3 - x1*u13*y3 - x2*u23*y3\n",
    "\n",
    "nonlinsolve([dx1, subs(dy1,(x2,0)), subs(dy2,(x2,0)), subs(dy3,(x2,0))],y1,y2,y3,x1)"
   ]
  },
  {
   "cell_type": "code",
   "execution_count": 77,
   "id": "702e0e56-4515-401f-923b-a8a83fff4b9d",
   "metadata": {},
   "outputs": [
    {
     "data": {
      "text/latex": [
       "$\\begin{equation*}a_{1} \\left(- R_{1} + u_{11} y_{1} + u_{12} y_{2} + u_{13} y_{3}\\right) + a_{2} \\left(- R_{2} + u_{21} y_{1} + u_{22} y_{2} + u_{23} y_{3}\\right)\\end{equation*}$\n"
      ],
      "text/plain": [
       "a₁⋅(-R₁ + u₁₁⋅y₁ + u₁₂⋅y₂ + u₁₃⋅y₃) + a₂⋅(-R₂ + u₂₁⋅y₁ + u₂₂⋅y₂ + u₂₃⋅y₃)"
      ]
     },
     "execution_count": 77,
     "metadata": {},
     "output_type": "execute_result"
    }
   ],
   "source": [
    "V = a1*log(x1) + a2*log(x2)\n",
    "dV = diff(V,x1) * dx1 + diff(V,x2) * dx2"
   ]
  },
  {
   "cell_type": "code",
   "execution_count": 78,
   "id": "f2fd11f9-175d-4fd5-977e-74873139a0c8",
   "metadata": {},
   "outputs": [
    {
     "data": {
      "text/latex": [
       "$\\begin{equation*}\\left(\\frac{ρ3}{u_{13} \\left(ρ1 + ρ2 + ρ3\\right)} + \\frac{ρ2}{u_{12} \\left(ρ1 + ρ2 + ρ3\\right)} + \\frac{ρ1}{u_{11} \\left(ρ1 + ρ2 + ρ3\\right)}\\right) \\left(- R_{1} + u_{11} y_{1} + u_{12} y_{2} + u_{13} y_{3}\\right) + \\left(- \\frac{ρ3}{u_{23} \\left(ρ1 + ρ2 + ρ3\\right)} - \\frac{ρ2}{u_{22} \\left(ρ1 + ρ2 + ρ3\\right)} - \\frac{ρ1}{u_{21} \\left(ρ1 + ρ2 + ρ3\\right)}\\right) \\left(- R_{2} + u_{21} y_{1} + u_{22} y_{2} + u_{23} y_{3}\\right)\\end{equation*}$\n"
      ],
      "text/plain": [
       "⎛        ρ3                   ρ2                   ρ1        ⎞                \n",
       "⎜────────────────── + ────────────────── + ──────────────────⎟⋅(-R₁ + u₁₁⋅y₁ +\n",
       "⎝u₁₃⋅(ρ1 + ρ2 + ρ3)   u₁₂⋅(ρ1 + ρ2 + ρ3)   u₁₁⋅(ρ1 + ρ2 + ρ3)⎠                \n",
       "\n",
       "                    ⎛          ρ3                   ρ2                   ρ1   \n",
       " u₁₂⋅y₂ + u₁₃⋅y₃) + ⎜- ────────────────── - ────────────────── - ─────────────\n",
       "                    ⎝  u₂₃⋅(ρ1 + ρ2 + ρ3)   u₂₂⋅(ρ1 + ρ2 + ρ3)   u₂₁⋅(ρ1 + ρ2 \n",
       "\n",
       "     ⎞                                 \n",
       "─────⎟⋅(-R₂ + u₂₁⋅y₁ + u₂₂⋅y₂ + u₂₃⋅y₃)\n",
       "+ ρ3)⎠                                 "
      ]
     },
     "execution_count": 78,
     "metadata": {},
     "output_type": "execute_result"
    }
   ],
   "source": [
    "ρtot = ρ1 + ρ2 + ρ3\n",
    "a1_ = ρ1/(u11*ρtot) + ρ2/(u12*ρtot) + ρ3/(u13*ρtot)\n",
    "a2_ = -(ρ1/(u21*ρtot) + ρ2/(u22*ρtot) + ρ3/(u23*ρtot))\n",
    "\n",
    "V_final = subs(dV, (a1,a1_), (a2,a2_))"
   ]
  },
  {
   "cell_type": "markdown",
   "id": "e1f37743-3ef9-4f8b-ad51-2a56580fea6a",
   "metadata": {},
   "source": [
    "# Interactions\n",
    "\n",
    "Here I derive a measure of interactions between species based on a given resource abundance. The general idea here is that given consumer $x_i(t)$ and resource $y_i(t)$ dynamics take the form:\n",
    "\n",
    "\\begin{align}\n",
    "    \\frac{dx_i(t)}{dt}  &= x_i(t) f_i(\\vec{y}) \\quad     \\text{and,} \\\\\n",
    "    \\\\\n",
    "    \\frac{dy_k(t)}{dt} &= g_k(\\vec{x},\\vec{y})\n",
    "\\end{align}\n",
    "\n",
    "the effect of species $i$ on $j$ is given by:\n",
    "\n",
    "\\begin{align}\n",
    "    a_{ij} = \\sum_{k = 0}^M \\frac{dg_k(\\vec{x},\\vec{y})}{dx_i(t)} \\frac{df_j(\\vec{y})}{dy_k(t)}\n",
    "\\end{align}\n",
    "\n",
    "that is summing over all $M$ resources the effect of consumer $i$ on resource $k$ multiplied by the effect of resource $k$ on consumer $j$. This measure has nice properties such as maintaining the sign of interactions based on the effects of the two compontnets on the RHS:\n",
    "\n",
    "|effect of i on k|effect of k on i|interaction|\n",
    "|------|------|-----|\n",
    "|+|+|+|\n",
    "|+|0|0|\n",
    "|-|+|-|\n",
    "|-|0|0|"
   ]
  },
  {
   "cell_type": "markdown",
   "id": "3b926b13-29bb-4fca-84f8-879fe0493ea0",
   "metadata": {},
   "source": [
    "For the metabolic model the equations for growth are:\n",
    "\n",
    "\\begin{align}\n",
    "    \\frac{dx_i}{dt} = x_i \\left[ \\sum_{k=0}^M \\left( y_k u_{ik} \\left(1- \\sum_{l=0}^M l_{kl}\\right)\\right) - R_i \\right]\n",
    "\\end{align}\n",
    "\n",
    "\\begin{align}\n",
    "    \\frac{dy_k}{dt} = \\rho_k - \\sum_{i=0}^N x_i y_k u_{ik} + \\sum_{i=0}^N \\sum_{l=0}^M x_i y_l u_{il} l_{lk} \n",
    "\\end{align}"
   ]
  },
  {
   "cell_type": "markdown",
   "id": "30ac397e-8113-462a-b9d7-a1e2d89f3e12",
   "metadata": {},
   "source": [
    "which for a given $ij$ species pair interacting over resource $k$ gives:\n",
    "\\begin{align}\n",
    "    a_{ij:k} =  \\left[-y_k u_{ik} + \\sum_{l=0}^M y_l u_{il} l_{lk}\\right] \\left[u_{jk} \\left(1 - \\sum_{l=0}^M l_{kl} \\right)\n",
    "    \\right]\n",
    "\\end{align}"
   ]
  },
  {
   "cell_type": "markdown",
   "id": "43d1a26b-2260-4fc2-9baa-9f89e9b7af0a",
   "metadata": {},
   "source": [
    "$$\n",
    "    a_{ij:k} =  \\left[-y_k u_{ik} \\left[u_{jk} \\left(1 - \\sum_{l=0}^M l_{kl} \\right)\n",
    "    \\right] + \\sum_{l=0}^M y_l u_{il} l_{lk} \\left[u_{jk} \\left(1 - \\sum_{l=0}^M l_{kl} \\right)\n",
    "    \\right] \\right] \n",
    "$$"
   ]
  },
  {
   "cell_type": "markdown",
   "id": "884de790-6ff0-4907-b0fd-24a9d5fcd935",
   "metadata": {},
   "source": [
    "$$\n",
    "    a_{ij:k} =  -y_k u_{ik} u_{jk} \\left(1 - l_{sum_{k}} \\right) +\n",
    "    \\sum_{l=0}^M y_l u_{il} l_{lk} u_{jk} \\left(1 - l_{sum_{k}} \\right)\n",
    "$$"
   ]
  },
  {
   "cell_type": "markdown",
   "id": "cb707d98-05be-4900-a245-8578e0f7869a",
   "metadata": {},
   "source": [
    "$$\n",
    "    a_{ij:k} =  -y_k u_{ik} u_{jk} \\left(1 - l_{sum_{k}} \\right) +\n",
    "    M \\left\\langle y_l u_{il} l_{lk} u_{jk} \\left(1 - l_{sum_{k}} \\right) \\right\\rangle\n",
    "$$"
   ]
  },
  {
   "cell_type": "markdown",
   "id": "0b86f01f-f8dc-476f-83f4-fc75ad96c3c5",
   "metadata": {},
   "source": [
    "$$\n",
    "    a_{ij:k} =  -y_k u_{ik} u_{jk} \\left(1 - l_{sum_{k}} \\right) +\n",
    "    M \\left\\langle y_l u_{il} l_{lk} u_{jk} \\left(1 - l_{sum_{k}} \\right) \\right\\rangle\n",
    "$$"
   ]
  },
  {
   "cell_type": "code",
   "execution_count": 57,
   "id": "9f8f6e30-55a8-446d-8845-73a273279e61",
   "metadata": {},
   "outputs": [
    {
     "data": {
      "text/plain": [
       "3-element Vector{Float64}:\n",
       " 1.0\n",
       " 1.0\n",
       " 0.5"
      ]
     },
     "execution_count": 57,
     "metadata": {},
     "output_type": "execute_result"
    }
   ],
   "source": [
    "y = [1 ; 1 ; 0.5]\n",
    "u = [1 0 0.5 ; 0 0.5 1 ; 1 0 0]\n",
    "l = [0.1 0.3 0.3; 0 0.3 0.3 ; 0 0 0.5]\n",
    "\n",
    "y"
   ]
  },
  {
   "cell_type": "code",
   "execution_count": 70,
   "id": "c9b93a95-f437-440a-a58c-c8a6958537b9",
   "metadata": {},
   "outputs": [
    {
     "data": {
      "text/plain": [
       "3-element Vector{Float64}:\n",
       " 1.75\n",
       " 1.5\n",
       " 1.25"
      ]
     },
     "execution_count": 70,
     "metadata": {},
     "output_type": "execute_result"
    }
   ],
   "source": [
    "u * (u * y)"
   ]
  },
  {
   "cell_type": "code",
   "execution_count": 75,
   "id": "f43794d3-be33-4c19-b40f-6b0f2c6426e3",
   "metadata": {},
   "outputs": [
    {
     "data": {
      "text/plain": [
       "3×1 Matrix{Float64}:\n",
       " 0.0\n",
       " 0.0\n",
       " 0.125"
      ]
     },
     "execution_count": 75,
     "metadata": {},
     "output_type": "execute_result"
    }
   ],
   "source": [
    "y .* u[1,:] .* u[2,:] .* (1 .- sum(l, dims = 2 ))"
   ]
  },
  {
   "cell_type": "code",
   "execution_count": 54,
   "id": "fad47ec4-2dc6-42bd-adf9-8d9a6541888c",
   "metadata": {},
   "outputs": [
    {
     "data": {
      "text/plain": [
       "(0.0, 0.0, 0.25)"
      ]
     },
     "execution_count": 54,
     "metadata": {},
     "output_type": "execute_result"
    }
   ],
   "source": [
    "function interaction(y,u,l,N,M)\n",
    "    a = zeros(N,N)\n",
    "    for i = 1:N\n",
    "        for j = 1:N\n",
    "            for k = 1:M\n",
    "                a[i,j] -= y[k]*u[i,k]*u[j,k]*(1-l[k])\n",
    "                for l = 1:M\n",
    "                    a[i,j] += y[l] * u[i,l] * u[j,k] * l (1-l[k])\n",
    "                end\n",
    "            end\n",
    "        end\n",
    "    end\n",
    "end\n"
   ]
  },
  {
   "cell_type": "markdown",
   "id": "e2d479ef-177d-4e76-9453-4ddd36d3560a",
   "metadata": {},
   "source": [
    "From this we can see the interaction is made up of two parts:\n",
    "1. the Competition term: The amount of uptake of resource $k$ by species $i$, weighted by its uptake by species $j$\n",
    "\n",
    "2. The Facilitation term: The amount of uptake of species $j$ (across all resources) that is leaked as resource $k$, again weighted by uptake by $j$"
   ]
  }
 ],
 "metadata": {
  "kernelspec": {
   "display_name": "DiffEq 1.6.1",
   "language": "julia",
   "name": "diffeq-1.6"
  },
  "language_info": {
   "file_extension": ".jl",
   "mimetype": "application/julia",
   "name": "julia",
   "version": "1.6.1"
  }
 },
 "nbformat": 4,
 "nbformat_minor": 5
}
